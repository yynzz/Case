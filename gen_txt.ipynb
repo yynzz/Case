{
  "nbformat": 4,
  "nbformat_minor": 0,
  "metadata": {
    "colab": {
      "name": "gen_txt",
      "provenance": [],
      "collapsed_sections": [],
      "mount_file_id": "1dkmJjF4Y9rOIb1cZ3trSfZetn-1VQ6Xy",
      "authorship_tag": "ABX9TyPdiYAbJbySXkbjxDSFdmtM"
    },
    "kernelspec": {
      "name": "python3",
      "display_name": "Python 3"
    },
    "language_info": {
      "name": "python"
    }
  },
  "cells": [
    {
      "cell_type": "code",
      "execution_count": 1,
      "metadata": {
        "id": "TgD3e1dQxDTP"
      },
      "outputs": [],
      "source": [
        "import pandas as pd\n",
        "import os"
      ]
    },
    {
      "cell_type": "markdown",
      "source": [
        "### table"
      ],
      "metadata": {
        "id": "0EWMOHXVOoxD"
      }
    },
    {
      "cell_type": "code",
      "source": [
        "schema = ['AAAAA', 'AAAAA', 'AAAAA', 'BBB', 'BBB', 'CC']\n",
        "name = ['jZyfh', 'pK245', 't0eDj', 'UnlR2', 'Xw4ID', '8ca5S']\n",
        "dictname = {'Table Owner': schema, 'Table Name': name}\n",
        "\n",
        "table = pd.DataFrame(dictname)\n",
        "table"
      ],
      "metadata": {
        "colab": {
          "base_uri": "https://localhost:8080/",
          "height": 231
        },
        "id": "5QJPcORCxqit",
        "outputId": "14087087-44d4-4eb2-aaa7-1ae07dbbc88c"
      },
      "execution_count": 2,
      "outputs": [
        {
          "output_type": "execute_result",
          "data": {
            "text/html": [
              "\n",
              "  <div id=\"df-3b37145e-075a-44f6-91ce-427ee35db14d\">\n",
              "    <div class=\"colab-df-container\">\n",
              "      <div>\n",
              "<style scoped>\n",
              "    .dataframe tbody tr th:only-of-type {\n",
              "        vertical-align: middle;\n",
              "    }\n",
              "\n",
              "    .dataframe tbody tr th {\n",
              "        vertical-align: top;\n",
              "    }\n",
              "\n",
              "    .dataframe thead th {\n",
              "        text-align: right;\n",
              "    }\n",
              "</style>\n",
              "<table border=\"1\" class=\"dataframe\">\n",
              "  <thead>\n",
              "    <tr style=\"text-align: right;\">\n",
              "      <th></th>\n",
              "      <th>Table Owner</th>\n",
              "      <th>Table Name</th>\n",
              "    </tr>\n",
              "  </thead>\n",
              "  <tbody>\n",
              "    <tr>\n",
              "      <th>0</th>\n",
              "      <td>AAAAA</td>\n",
              "      <td>jZyfh</td>\n",
              "    </tr>\n",
              "    <tr>\n",
              "      <th>1</th>\n",
              "      <td>AAAAA</td>\n",
              "      <td>pK245</td>\n",
              "    </tr>\n",
              "    <tr>\n",
              "      <th>2</th>\n",
              "      <td>AAAAA</td>\n",
              "      <td>t0eDj</td>\n",
              "    </tr>\n",
              "    <tr>\n",
              "      <th>3</th>\n",
              "      <td>BBB</td>\n",
              "      <td>UnlR2</td>\n",
              "    </tr>\n",
              "    <tr>\n",
              "      <th>4</th>\n",
              "      <td>BBB</td>\n",
              "      <td>Xw4ID</td>\n",
              "    </tr>\n",
              "    <tr>\n",
              "      <th>5</th>\n",
              "      <td>CC</td>\n",
              "      <td>8ca5S</td>\n",
              "    </tr>\n",
              "  </tbody>\n",
              "</table>\n",
              "</div>\n",
              "      <button class=\"colab-df-convert\" onclick=\"convertToInteractive('df-3b37145e-075a-44f6-91ce-427ee35db14d')\"\n",
              "              title=\"Convert this dataframe to an interactive table.\"\n",
              "              style=\"display:none;\">\n",
              "        \n",
              "  <svg xmlns=\"http://www.w3.org/2000/svg\" height=\"24px\"viewBox=\"0 0 24 24\"\n",
              "       width=\"24px\">\n",
              "    <path d=\"M0 0h24v24H0V0z\" fill=\"none\"/>\n",
              "    <path d=\"M18.56 5.44l.94 2.06.94-2.06 2.06-.94-2.06-.94-.94-2.06-.94 2.06-2.06.94zm-11 1L8.5 8.5l.94-2.06 2.06-.94-2.06-.94L8.5 2.5l-.94 2.06-2.06.94zm10 10l.94 2.06.94-2.06 2.06-.94-2.06-.94-.94-2.06-.94 2.06-2.06.94z\"/><path d=\"M17.41 7.96l-1.37-1.37c-.4-.4-.92-.59-1.43-.59-.52 0-1.04.2-1.43.59L10.3 9.45l-7.72 7.72c-.78.78-.78 2.05 0 2.83L4 21.41c.39.39.9.59 1.41.59.51 0 1.02-.2 1.41-.59l7.78-7.78 2.81-2.81c.8-.78.8-2.07 0-2.86zM5.41 20L4 18.59l7.72-7.72 1.47 1.35L5.41 20z\"/>\n",
              "  </svg>\n",
              "      </button>\n",
              "      \n",
              "  <style>\n",
              "    .colab-df-container {\n",
              "      display:flex;\n",
              "      flex-wrap:wrap;\n",
              "      gap: 12px;\n",
              "    }\n",
              "\n",
              "    .colab-df-convert {\n",
              "      background-color: #E8F0FE;\n",
              "      border: none;\n",
              "      border-radius: 50%;\n",
              "      cursor: pointer;\n",
              "      display: none;\n",
              "      fill: #1967D2;\n",
              "      height: 32px;\n",
              "      padding: 0 0 0 0;\n",
              "      width: 32px;\n",
              "    }\n",
              "\n",
              "    .colab-df-convert:hover {\n",
              "      background-color: #E2EBFA;\n",
              "      box-shadow: 0px 1px 2px rgba(60, 64, 67, 0.3), 0px 1px 3px 1px rgba(60, 64, 67, 0.15);\n",
              "      fill: #174EA6;\n",
              "    }\n",
              "\n",
              "    [theme=dark] .colab-df-convert {\n",
              "      background-color: #3B4455;\n",
              "      fill: #D2E3FC;\n",
              "    }\n",
              "\n",
              "    [theme=dark] .colab-df-convert:hover {\n",
              "      background-color: #434B5C;\n",
              "      box-shadow: 0px 1px 3px 1px rgba(0, 0, 0, 0.15);\n",
              "      filter: drop-shadow(0px 1px 2px rgba(0, 0, 0, 0.3));\n",
              "      fill: #FFFFFF;\n",
              "    }\n",
              "  </style>\n",
              "\n",
              "      <script>\n",
              "        const buttonEl =\n",
              "          document.querySelector('#df-3b37145e-075a-44f6-91ce-427ee35db14d button.colab-df-convert');\n",
              "        buttonEl.style.display =\n",
              "          google.colab.kernel.accessAllowed ? 'block' : 'none';\n",
              "\n",
              "        async function convertToInteractive(key) {\n",
              "          const element = document.querySelector('#df-3b37145e-075a-44f6-91ce-427ee35db14d');\n",
              "          const dataTable =\n",
              "            await google.colab.kernel.invokeFunction('convertToInteractive',\n",
              "                                                     [key], {});\n",
              "          if (!dataTable) return;\n",
              "\n",
              "          const docLinkHtml = 'Like what you see? Visit the ' +\n",
              "            '<a target=\"_blank\" href=https://colab.research.google.com/notebooks/data_table.ipynb>data table notebook</a>'\n",
              "            + ' to learn more about interactive tables.';\n",
              "          element.innerHTML = '';\n",
              "          dataTable['output_type'] = 'display_data';\n",
              "          await google.colab.output.renderOutput(dataTable, element);\n",
              "          const docLink = document.createElement('div');\n",
              "          docLink.innerHTML = docLinkHtml;\n",
              "          element.appendChild(docLink);\n",
              "        }\n",
              "      </script>\n",
              "    </div>\n",
              "  </div>\n",
              "  "
            ],
            "text/plain": [
              "  Table Owner Table Name\n",
              "0       AAAAA      jZyfh\n",
              "1       AAAAA      pK245\n",
              "2       AAAAA      t0eDj\n",
              "3         BBB      UnlR2\n",
              "4         BBB      Xw4ID\n",
              "5          CC      8ca5S"
            ]
          },
          "metadata": {},
          "execution_count": 2
        }
      ]
    },
    {
      "cell_type": "markdown",
      "source": [
        "### read txt\n",
        "\n",
        "*with open(..., encoding = 'MS950') as f:*\n",
        "\n"
      ],
      "metadata": {
        "id": "5UGGQbWaOxAF"
      }
    },
    {
      "cell_type": "code",
      "source": [
        "with open('/content/drive/MyDrive/testtxt.txt', 'r') as f:\n",
        "  content = f.read()\n",
        "\n",
        "print(type(content), '\\n')\n",
        "print(content)"
      ],
      "metadata": {
        "colab": {
          "base_uri": "https://localhost:8080/"
        },
        "id": "LC2ZnOfQ0DVA",
        "outputId": "05b2d1be-cf20-4524-cbc1-4a3b9eb4bc49"
      },
      "execution_count": 3,
      "outputs": [
        {
          "output_type": "stream",
          "name": "stdout",
          "text": [
            "<class 'str'> \n",
            "\n",
            "--測試: TABLE_OWNER = 'SCHEMA_0' AND TABLE_NAME = 'TABLE_0' (input any owner & name)\n",
            "--1.concat with ;\n",
            "--2.test\n",
            "--3.test\n",
            "\n",
            "SELECT *\n",
            "FROM\n",
            "(\n",
            "WITH xfile AS(\n",
            "    SELECT A.*, B.col, ...\n",
            "    FROM\n",
            "    (\n",
            "    SELECT  TABLE_OWNER,TABLE_NAME,...,EXTRACTVALUE --*!!!*--\n",
            "      ( ABC.col\n",
            "        ( 'select txtxt\n",
            "           from txtxt where table_name = ''' || T.col || ''' & col = ''' || T.col || ''''), --*!!!*--\n",
            "        '//text()' ) AS col\n",
            "    FROM  ABC.col T\n",
            "    WHERE TABLE_OWNER = 'SCHEMA_0' AND TABLE_NAME = 'TABLE_0' --*****<<<*****--\n",
            "    AND col like 'txtxt%'\n",
            "    ORDER BY col\n",
            "    ) A,\n",
            "    ( \n",
            "    SELECT  TABLE_OWNER,TABLE_NAME,col\n",
            "    FROM  ABC.col\n",
            "    WHERE TABLE_OWNER = 'SCHEMA_0' AND TABLE_NAME = 'TABLE_0' --*****<<<*****--\n",
            "    AND (col like '%txtxt%')    \n",
            "    ) B,\n",
            "    ( \n",
            "    SELECT  TABLE_OWNER,TABLE_NAME,...\n",
            "    FROM  ABC.col\n",
            "    WHERE TABLE_OWNER = 'SCHEMA_0' AND TABLE_NAME = 'TABLE_0' --*****<<<*****--\n",
            "    GROUP BY TABLE_OWNER,TABLE_NAME\n",
            "    ) C,\n",
            "    (\n",
            "        SELECT A.OWNER AS TABLE_OWNER,A.TABLE_NAME,...\n",
            "        FROM\n",
            "        (        \n",
            "                SELECT OWNER,NAME AS TABLE_NAME,COL_NAME AS col\n",
            "                FROM xfile\n",
            "                WHERE col = 'txtxt'\n",
            "        ) A,\n",
            "        ( \n",
            "                SELECT OWNER,TABLE_NAME,COL_NAME,...\n",
            "                FROM xfile\n",
            "        ) B\n",
            "        WHERE A.OWNER = B.OWNER\n",
            "          AND A.TABLE_NAME = B.TABLE_NAME \n",
            "          AND ...\n",
            "    ) D\n",
            "    WHERE A.TABLE_OWNER = B.TABLE_OWNER(+)\n",
            "      AND A.TABLE_NAME = B.TABLE_NAME(+)\n",
            "      AND A.TABLE_OWNER = C.TABLE_OWNER(+)\n",
            "      ...\n",
            "     \n",
            ")   \n",
            "    SELECT col\n",
            "    FROM\n",
            "    (\n",
            "        SELECT '1' AS COL,'--/****** ' || col ||'.'|| col || '******/' AS col\n",
            "        FROM xfile\n",
            "        WHERE ROWNUM=1\n",
            "        UNION ALL\n",
            "        SELECT '2' AS COL,'--txtxt' FROM DUAL\n",
            "        UNION ALL         \n",
            "        SELECT '3' AS COL,'txtxt' || col || '.' || col || 'txtxt < (' || 'txtxt' || ');' AS col --*!!!*--\n",
            "        FROM xfile\n",
            "        WHERE MAX_col NOT LIKE '%txtxt%'\n",
            "        AND ROWNUM=1\n",
            "        UNION ALL\n",
            "        ...\n",
            "    )\n",
            "    ORDER BY col\n",
            ")\n",
            "UNION ALL\n",
            "SELECT  CHR(123) || CHR(456) FROM DUAL\n",
            "UNION ALL\n",
            "SELECT  '--txtxt' FROM DUAL\n",
            "UNION ALL\n",
            "SELECT  'txtxt' || A.TABLE_OWNER || '.' || A.INDEX_NAME || 'txtxt' || ';' AS col --*!!!*--\n",
            "FROM\n",
            "(\n",
            "SELECT A.TABLE_OWNER,A.INDEX_NAME,B.col,\n",
            "CASE WHEN A.col IS NULL THEN B.col ELSE A.col END AS col\n",
            "FROM ABC.col A, ABC.COL B\n",
            "WHERE A.TABLE_OWNER=B.INDEX_OWNER(+) AND A.INDEX_NAME=B.INDEX_NAME(+)\n",
            "AND A.OWNER = 'SCHEMA_0' AND A.TABLE_NAME = 'TABLE_0' --*****<<<*****--\n",
            "AND B.col like 'txtxt%'\n",
            "ORDER BY col\n",
            ") A\n"
          ]
        }
      ]
    },
    {
      "cell_type": "markdown",
      "source": [
        "### str tpl"
      ],
      "metadata": {
        "id": "9Oq9scXAO2WJ"
      }
    },
    {
      "cell_type": "code",
      "source": [
        "tpl = content.replace('SCHEMA_0', '{0}').replace('TABLE_0', '{1}')\n",
        "print(tpl)"
      ],
      "metadata": {
        "colab": {
          "base_uri": "https://localhost:8080/"
        },
        "id": "mnHUnCcH1drW",
        "outputId": "f59189a3-54f4-4952-e775-bbc165c9b91e"
      },
      "execution_count": 4,
      "outputs": [
        {
          "output_type": "stream",
          "name": "stdout",
          "text": [
            "--測試: TABLE_OWNER = '{0}' AND TABLE_NAME = '{1}' (input any owner & name)\n",
            "--1.concat with ;\n",
            "--2.test\n",
            "--3.test\n",
            "\n",
            "SELECT *\n",
            "FROM\n",
            "(\n",
            "WITH xfile AS(\n",
            "    SELECT A.*, B.col, ...\n",
            "    FROM\n",
            "    (\n",
            "    SELECT  TABLE_OWNER,TABLE_NAME,...,EXTRACTVALUE --*!!!*--\n",
            "      ( ABC.col\n",
            "        ( 'select txtxt\n",
            "           from txtxt where table_name = ''' || T.col || ''' & col = ''' || T.col || ''''), --*!!!*--\n",
            "        '//text()' ) AS col\n",
            "    FROM  ABC.col T\n",
            "    WHERE TABLE_OWNER = '{0}' AND TABLE_NAME = '{1}' --*****<<<*****--\n",
            "    AND col like 'txtxt%'\n",
            "    ORDER BY col\n",
            "    ) A,\n",
            "    ( \n",
            "    SELECT  TABLE_OWNER,TABLE_NAME,col\n",
            "    FROM  ABC.col\n",
            "    WHERE TABLE_OWNER = '{0}' AND TABLE_NAME = '{1}' --*****<<<*****--\n",
            "    AND (col like '%txtxt%')    \n",
            "    ) B,\n",
            "    ( \n",
            "    SELECT  TABLE_OWNER,TABLE_NAME,...\n",
            "    FROM  ABC.col\n",
            "    WHERE TABLE_OWNER = '{0}' AND TABLE_NAME = '{1}' --*****<<<*****--\n",
            "    GROUP BY TABLE_OWNER,TABLE_NAME\n",
            "    ) C,\n",
            "    (\n",
            "        SELECT A.OWNER AS TABLE_OWNER,A.TABLE_NAME,...\n",
            "        FROM\n",
            "        (        \n",
            "                SELECT OWNER,NAME AS TABLE_NAME,COL_NAME AS col\n",
            "                FROM xfile\n",
            "                WHERE col = 'txtxt'\n",
            "        ) A,\n",
            "        ( \n",
            "                SELECT OWNER,TABLE_NAME,COL_NAME,...\n",
            "                FROM xfile\n",
            "        ) B\n",
            "        WHERE A.OWNER = B.OWNER\n",
            "          AND A.TABLE_NAME = B.TABLE_NAME \n",
            "          AND ...\n",
            "    ) D\n",
            "    WHERE A.TABLE_OWNER = B.TABLE_OWNER(+)\n",
            "      AND A.TABLE_NAME = B.TABLE_NAME(+)\n",
            "      AND A.TABLE_OWNER = C.TABLE_OWNER(+)\n",
            "      ...\n",
            "     \n",
            ")   \n",
            "    SELECT col\n",
            "    FROM\n",
            "    (\n",
            "        SELECT '1' AS COL,'--/****** ' || col ||'.'|| col || '******/' AS col\n",
            "        FROM xfile\n",
            "        WHERE ROWNUM=1\n",
            "        UNION ALL\n",
            "        SELECT '2' AS COL,'--txtxt' FROM DUAL\n",
            "        UNION ALL         \n",
            "        SELECT '3' AS COL,'txtxt' || col || '.' || col || 'txtxt < (' || 'txtxt' || ');' AS col --*!!!*--\n",
            "        FROM xfile\n",
            "        WHERE MAX_col NOT LIKE '%txtxt%'\n",
            "        AND ROWNUM=1\n",
            "        UNION ALL\n",
            "        ...\n",
            "    )\n",
            "    ORDER BY col\n",
            ")\n",
            "UNION ALL\n",
            "SELECT  CHR(123) || CHR(456) FROM DUAL\n",
            "UNION ALL\n",
            "SELECT  '--txtxt' FROM DUAL\n",
            "UNION ALL\n",
            "SELECT  'txtxt' || A.TABLE_OWNER || '.' || A.INDEX_NAME || 'txtxt' || ';' AS col --*!!!*--\n",
            "FROM\n",
            "(\n",
            "SELECT A.TABLE_OWNER,A.INDEX_NAME,B.col,\n",
            "CASE WHEN A.col IS NULL THEN B.col ELSE A.col END AS col\n",
            "FROM ABC.col A, ABC.COL B\n",
            "WHERE A.TABLE_OWNER=B.INDEX_OWNER(+) AND A.INDEX_NAME=B.INDEX_NAME(+)\n",
            "AND A.OWNER = '{0}' AND A.TABLE_NAME = '{1}' --*****<<<*****--\n",
            "AND B.col like 'txtxt%'\n",
            "ORDER BY col\n",
            ") A\n"
          ]
        }
      ]
    },
    {
      "cell_type": "markdown",
      "source": [
        "### *\n",
        "\n",
        "*array & def*"
      ],
      "metadata": {
        "id": "HIq7NthtPH57"
      }
    },
    {
      "cell_type": "code",
      "source": [
        "table.values"
      ],
      "metadata": {
        "colab": {
          "base_uri": "https://localhost:8080/"
        },
        "id": "nZCZhrom5QSZ",
        "outputId": "91ac870c-1b14-4b6e-cf37-992615343150"
      },
      "execution_count": 5,
      "outputs": [
        {
          "output_type": "execute_result",
          "data": {
            "text/plain": [
              "array([['AAAAA', 'jZyfh'],\n",
              "       ['AAAAA', 'pK245'],\n",
              "       ['AAAAA', 't0eDj'],\n",
              "       ['BBB', 'UnlR2'],\n",
              "       ['BBB', 'Xw4ID'],\n",
              "       ['CC', '8ca5S']], dtype=object)"
            ]
          },
          "metadata": {},
          "execution_count": 5
        }
      ]
    },
    {
      "cell_type": "code",
      "source": [
        "table.values[0] # the 0th OBJECT of the array(table.values)"
      ],
      "metadata": {
        "colab": {
          "base_uri": "https://localhost:8080/"
        },
        "id": "UkHt1WXy5VbI",
        "outputId": "993a80ab-613f-4b50-f74e-f3cd658a1a6a"
      },
      "execution_count": 6,
      "outputs": [
        {
          "output_type": "execute_result",
          "data": {
            "text/plain": [
              "array(['AAAAA', 'jZyfh'], dtype=object)"
            ]
          },
          "metadata": {},
          "execution_count": 6
        }
      ]
    },
    {
      "cell_type": "code",
      "source": [
        "print(table.values[0][0], table.values[0][1])"
      ],
      "metadata": {
        "colab": {
          "base_uri": "https://localhost:8080/"
        },
        "id": "6R1e7Tjt4q63",
        "outputId": "64bad006-f676-41b5-a4e0-b20f68fe2fe9"
      },
      "execution_count": 7,
      "outputs": [
        {
          "output_type": "stream",
          "name": "stdout",
          "text": [
            "AAAAA jZyfh\n"
          ]
        }
      ]
    },
    {
      "cell_type": "code",
      "source": [
        "def zz(r):\n",
        "  return tpl.format(table.values[r][0], table.values[r][1])\n",
        "zz(0)"
      ],
      "metadata": {
        "colab": {
          "base_uri": "https://localhost:8080/",
          "height": 116
        },
        "id": "Wp4IhW2nDcV4",
        "outputId": "2902d466-e357-45b4-b437-69ef793773d1"
      },
      "execution_count": 8,
      "outputs": [
        {
          "output_type": "execute_result",
          "data": {
            "application/vnd.google.colaboratory.intrinsic+json": {
              "type": "string"
            },
            "text/plain": [
              "\"--測試: TABLE_OWNER = 'AAAAA' AND TABLE_NAME = 'jZyfh' (input any owner & name)\\n--1.concat with ;\\n--2.test\\n--3.test\\n\\nSELECT *\\nFROM\\n(\\nWITH xfile AS(\\n    SELECT A.*, B.col, ...\\n    FROM\\n    (\\n    SELECT  TABLE_OWNER,TABLE_NAME,...,EXTRACTVALUE --*!!!*--\\n      ( ABC.col\\n        ( 'select txtxt\\n           from txtxt where table_name = ''' || T.col || ''' & col = ''' || T.col || ''''), --*!!!*--\\n        '//text()' ) AS col\\n    FROM  ABC.col T\\n    WHERE TABLE_OWNER = 'AAAAA' AND TABLE_NAME = 'jZyfh' --*****<<<*****--\\n    AND col like 'txtxt%'\\n    ORDER BY col\\n    ) A,\\n    ( \\n    SELECT  TABLE_OWNER,TABLE_NAME,col\\n    FROM  ABC.col\\n    WHERE TABLE_OWNER = 'AAAAA' AND TABLE_NAME = 'jZyfh' --*****<<<*****--\\n    AND (col like '%txtxt%')    \\n    ) B,\\n    ( \\n    SELECT  TABLE_OWNER,TABLE_NAME,...\\n    FROM  ABC.col\\n    WHERE TABLE_OWNER = 'AAAAA' AND TABLE_NAME = 'jZyfh' --*****<<<*****--\\n    GROUP BY TABLE_OWNER,TABLE_NAME\\n    ) C,\\n    (\\n        SELECT A.OWNER AS TABLE_OWNER,A.TABLE_NAME,...\\n        FROM\\n        (        \\n                SELECT OWNER,NAME AS TABLE_NAME,COL_NAME AS col\\n                FROM xfile\\n                WHERE col = 'txtxt'\\n        ) A,\\n        ( \\n                SELECT OWNER,TABLE_NAME,COL_NAME,...\\n                FROM xfile\\n        ) B\\n        WHERE A.OWNER = B.OWNER\\n          AND A.TABLE_NAME = B.TABLE_NAME \\n          AND ...\\n    ) D\\n    WHERE A.TABLE_OWNER = B.TABLE_OWNER(+)\\n      AND A.TABLE_NAME = B.TABLE_NAME(+)\\n      AND A.TABLE_OWNER = C.TABLE_OWNER(+)\\n      ...\\n     \\n)   \\n    SELECT col\\n    FROM\\n    (\\n        SELECT '1' AS COL,'--/****** ' || col ||'.'|| col || '******/' AS col\\n        FROM xfile\\n        WHERE ROWNUM=1\\n        UNION ALL\\n        SELECT '2' AS COL,'--txtxt' FROM DUAL\\n        UNION ALL         \\n        SELECT '3' AS COL,'txtxt' || col || '.' || col || 'txtxt < (' || 'txtxt' || ');' AS col --*!!!*--\\n        FROM xfile\\n        WHERE MAX_col NOT LIKE '%txtxt%'\\n        AND ROWNUM=1\\n        UNION ALL\\n        ...\\n    )\\n    ORDER BY col\\n)\\nUNION ALL\\nSELECT  CHR(123) || CHR(456) FROM DUAL\\nUNION ALL\\nSELECT  '--txtxt' FROM DUAL\\nUNION ALL\\nSELECT  'txtxt' || A.TABLE_OWNER || '.' || A.INDEX_NAME || 'txtxt' || ';' AS col --*!!!*--\\nFROM\\n(\\nSELECT A.TABLE_OWNER,A.INDEX_NAME,B.col,\\nCASE WHEN A.col IS NULL THEN B.col ELSE A.col END AS col\\nFROM ABC.col A, ABC.COL B\\nWHERE A.TABLE_OWNER=B.INDEX_OWNER(+) AND A.INDEX_NAME=B.INDEX_NAME(+)\\nAND A.OWNER = 'AAAAA' AND A.TABLE_NAME = 'jZyfh' --*****<<<*****--\\nAND B.col like 'txtxt%'\\nORDER BY col\\n) A\""
            ]
          },
          "metadata": {},
          "execution_count": 8
        }
      ]
    },
    {
      "cell_type": "markdown",
      "source": [
        "dir"
      ],
      "metadata": {
        "id": "WQq4_IPRPSf1"
      }
    },
    {
      "cell_type": "code",
      "source": [
        "os.getcwd()"
      ],
      "metadata": {
        "colab": {
          "base_uri": "https://localhost:8080/",
          "height": 34
        },
        "id": "Pv6v2qNsEtIE",
        "outputId": "954a6880-9b50-4f7f-c178-16279fa3b5bc"
      },
      "execution_count": 9,
      "outputs": [
        {
          "output_type": "execute_result",
          "data": {
            "application/vnd.google.colaboratory.intrinsic+json": {
              "type": "string"
            },
            "text/plain": [
              "'/content'"
            ]
          },
          "metadata": {},
          "execution_count": 9
        }
      ]
    },
    {
      "cell_type": "code",
      "source": [
        "os.chdir('/content/drive')"
      ],
      "metadata": {
        "id": "jAyn1DDcFsjH"
      },
      "execution_count": 10,
      "outputs": []
    },
    {
      "cell_type": "code",
      "source": [
        "os.getcwd()"
      ],
      "metadata": {
        "colab": {
          "base_uri": "https://localhost:8080/",
          "height": 34
        },
        "id": "fE0cvXmlF1xI",
        "outputId": "75b783a4-9c81-40e7-c799-cd48be835ae6"
      },
      "execution_count": 11,
      "outputs": [
        {
          "output_type": "execute_result",
          "data": {
            "application/vnd.google.colaboratory.intrinsic+json": {
              "type": "string"
            },
            "text/plain": [
              "'/content/drive'"
            ]
          },
          "metadata": {},
          "execution_count": 11
        }
      ]
    },
    {
      "cell_type": "markdown",
      "source": [
        "### write\n",
        "\n",
        "*table 3 - the last one, concat with ; as a txt*"
      ],
      "metadata": {
        "id": "5LcfWc5qPnz6"
      }
    },
    {
      "cell_type": "code",
      "source": [
        "with open('/content/drive/MyDrive/output.txt', 'w') as f:\n",
        "  for i in table.values[2:]:\n",
        "    tmp = tpl.format(i[0], i[1])\n",
        "    print('now doing: ' + i[0] + ', ' + i[1])\n",
        "    f.write('%s;\\n\\n' % tmp)"
      ],
      "metadata": {
        "colab": {
          "base_uri": "https://localhost:8080/"
        },
        "id": "b17EZ88w6HYa",
        "outputId": "1672e167-9859-4fc9-b622-8bed0651d7cd"
      },
      "execution_count": 12,
      "outputs": [
        {
          "output_type": "stream",
          "name": "stdout",
          "text": [
            "now doing: AAAAA, t0eDj\n",
            "now doing: BBB, UnlR2\n",
            "now doing: BBB, Xw4ID\n",
            "now doing: CC, 8ca5S\n"
          ]
        }
      ]
    },
    {
      "cell_type": "markdown",
      "source": [
        "### output"
      ],
      "metadata": {
        "id": "2Zlp_laHPvM0"
      }
    },
    {
      "cell_type": "code",
      "source": [
        "with open('/content/drive/MyDrive/output.txt', 'r') as f:\n",
        "    print(f.read())"
      ],
      "metadata": {
        "colab": {
          "base_uri": "https://localhost:8080/"
        },
        "id": "XjYHfGQCKN3W",
        "outputId": "abb9ae82-6e0a-4cba-812a-8fc857bb1616"
      },
      "execution_count": 13,
      "outputs": [
        {
          "output_type": "stream",
          "name": "stdout",
          "text": [
            "--測試: TABLE_OWNER = 'AAAAA' AND TABLE_NAME = 't0eDj' (input any owner & name)\n",
            "--1.concat with ;\n",
            "--2.test\n",
            "--3.test\n",
            "\n",
            "SELECT *\n",
            "FROM\n",
            "(\n",
            "WITH xfile AS(\n",
            "    SELECT A.*, B.col, ...\n",
            "    FROM\n",
            "    (\n",
            "    SELECT  TABLE_OWNER,TABLE_NAME,...,EXTRACTVALUE --*!!!*--\n",
            "      ( ABC.col\n",
            "        ( 'select txtxt\n",
            "           from txtxt where table_name = ''' || T.col || ''' & col = ''' || T.col || ''''), --*!!!*--\n",
            "        '//text()' ) AS col\n",
            "    FROM  ABC.col T\n",
            "    WHERE TABLE_OWNER = 'AAAAA' AND TABLE_NAME = 't0eDj' --*****<<<*****--\n",
            "    AND col like 'txtxt%'\n",
            "    ORDER BY col\n",
            "    ) A,\n",
            "    ( \n",
            "    SELECT  TABLE_OWNER,TABLE_NAME,col\n",
            "    FROM  ABC.col\n",
            "    WHERE TABLE_OWNER = 'AAAAA' AND TABLE_NAME = 't0eDj' --*****<<<*****--\n",
            "    AND (col like '%txtxt%')    \n",
            "    ) B,\n",
            "    ( \n",
            "    SELECT  TABLE_OWNER,TABLE_NAME,...\n",
            "    FROM  ABC.col\n",
            "    WHERE TABLE_OWNER = 'AAAAA' AND TABLE_NAME = 't0eDj' --*****<<<*****--\n",
            "    GROUP BY TABLE_OWNER,TABLE_NAME\n",
            "    ) C,\n",
            "    (\n",
            "        SELECT A.OWNER AS TABLE_OWNER,A.TABLE_NAME,...\n",
            "        FROM\n",
            "        (        \n",
            "                SELECT OWNER,NAME AS TABLE_NAME,COL_NAME AS col\n",
            "                FROM xfile\n",
            "                WHERE col = 'txtxt'\n",
            "        ) A,\n",
            "        ( \n",
            "                SELECT OWNER,TABLE_NAME,COL_NAME,...\n",
            "                FROM xfile\n",
            "        ) B\n",
            "        WHERE A.OWNER = B.OWNER\n",
            "          AND A.TABLE_NAME = B.TABLE_NAME \n",
            "          AND ...\n",
            "    ) D\n",
            "    WHERE A.TABLE_OWNER = B.TABLE_OWNER(+)\n",
            "      AND A.TABLE_NAME = B.TABLE_NAME(+)\n",
            "      AND A.TABLE_OWNER = C.TABLE_OWNER(+)\n",
            "      ...\n",
            "     \n",
            ")   \n",
            "    SELECT col\n",
            "    FROM\n",
            "    (\n",
            "        SELECT '1' AS COL,'--/****** ' || col ||'.'|| col || '******/' AS col\n",
            "        FROM xfile\n",
            "        WHERE ROWNUM=1\n",
            "        UNION ALL\n",
            "        SELECT '2' AS COL,'--txtxt' FROM DUAL\n",
            "        UNION ALL         \n",
            "        SELECT '3' AS COL,'txtxt' || col || '.' || col || 'txtxt < (' || 'txtxt' || ');' AS col --*!!!*--\n",
            "        FROM xfile\n",
            "        WHERE MAX_col NOT LIKE '%txtxt%'\n",
            "        AND ROWNUM=1\n",
            "        UNION ALL\n",
            "        ...\n",
            "    )\n",
            "    ORDER BY col\n",
            ")\n",
            "UNION ALL\n",
            "SELECT  CHR(123) || CHR(456) FROM DUAL\n",
            "UNION ALL\n",
            "SELECT  '--txtxt' FROM DUAL\n",
            "UNION ALL\n",
            "SELECT  'txtxt' || A.TABLE_OWNER || '.' || A.INDEX_NAME || 'txtxt' || ';' AS col --*!!!*--\n",
            "FROM\n",
            "(\n",
            "SELECT A.TABLE_OWNER,A.INDEX_NAME,B.col,\n",
            "CASE WHEN A.col IS NULL THEN B.col ELSE A.col END AS col\n",
            "FROM ABC.col A, ABC.COL B\n",
            "WHERE A.TABLE_OWNER=B.INDEX_OWNER(+) AND A.INDEX_NAME=B.INDEX_NAME(+)\n",
            "AND A.OWNER = 'AAAAA' AND A.TABLE_NAME = 't0eDj' --*****<<<*****--\n",
            "AND B.col like 'txtxt%'\n",
            "ORDER BY col\n",
            ") A;\n",
            "\n",
            "--測試: TABLE_OWNER = 'BBB' AND TABLE_NAME = 'UnlR2' (input any owner & name)\n",
            "--1.concat with ;\n",
            "--2.test\n",
            "--3.test\n",
            "\n",
            "SELECT *\n",
            "FROM\n",
            "(\n",
            "WITH xfile AS(\n",
            "    SELECT A.*, B.col, ...\n",
            "    FROM\n",
            "    (\n",
            "    SELECT  TABLE_OWNER,TABLE_NAME,...,EXTRACTVALUE --*!!!*--\n",
            "      ( ABC.col\n",
            "        ( 'select txtxt\n",
            "           from txtxt where table_name = ''' || T.col || ''' & col = ''' || T.col || ''''), --*!!!*--\n",
            "        '//text()' ) AS col\n",
            "    FROM  ABC.col T\n",
            "    WHERE TABLE_OWNER = 'BBB' AND TABLE_NAME = 'UnlR2' --*****<<<*****--\n",
            "    AND col like 'txtxt%'\n",
            "    ORDER BY col\n",
            "    ) A,\n",
            "    ( \n",
            "    SELECT  TABLE_OWNER,TABLE_NAME,col\n",
            "    FROM  ABC.col\n",
            "    WHERE TABLE_OWNER = 'BBB' AND TABLE_NAME = 'UnlR2' --*****<<<*****--\n",
            "    AND (col like '%txtxt%')    \n",
            "    ) B,\n",
            "    ( \n",
            "    SELECT  TABLE_OWNER,TABLE_NAME,...\n",
            "    FROM  ABC.col\n",
            "    WHERE TABLE_OWNER = 'BBB' AND TABLE_NAME = 'UnlR2' --*****<<<*****--\n",
            "    GROUP BY TABLE_OWNER,TABLE_NAME\n",
            "    ) C,\n",
            "    (\n",
            "        SELECT A.OWNER AS TABLE_OWNER,A.TABLE_NAME,...\n",
            "        FROM\n",
            "        (        \n",
            "                SELECT OWNER,NAME AS TABLE_NAME,COL_NAME AS col\n",
            "                FROM xfile\n",
            "                WHERE col = 'txtxt'\n",
            "        ) A,\n",
            "        ( \n",
            "                SELECT OWNER,TABLE_NAME,COL_NAME,...\n",
            "                FROM xfile\n",
            "        ) B\n",
            "        WHERE A.OWNER = B.OWNER\n",
            "          AND A.TABLE_NAME = B.TABLE_NAME \n",
            "          AND ...\n",
            "    ) D\n",
            "    WHERE A.TABLE_OWNER = B.TABLE_OWNER(+)\n",
            "      AND A.TABLE_NAME = B.TABLE_NAME(+)\n",
            "      AND A.TABLE_OWNER = C.TABLE_OWNER(+)\n",
            "      ...\n",
            "     \n",
            ")   \n",
            "    SELECT col\n",
            "    FROM\n",
            "    (\n",
            "        SELECT '1' AS COL,'--/****** ' || col ||'.'|| col || '******/' AS col\n",
            "        FROM xfile\n",
            "        WHERE ROWNUM=1\n",
            "        UNION ALL\n",
            "        SELECT '2' AS COL,'--txtxt' FROM DUAL\n",
            "        UNION ALL         \n",
            "        SELECT '3' AS COL,'txtxt' || col || '.' || col || 'txtxt < (' || 'txtxt' || ');' AS col --*!!!*--\n",
            "        FROM xfile\n",
            "        WHERE MAX_col NOT LIKE '%txtxt%'\n",
            "        AND ROWNUM=1\n",
            "        UNION ALL\n",
            "        ...\n",
            "    )\n",
            "    ORDER BY col\n",
            ")\n",
            "UNION ALL\n",
            "SELECT  CHR(123) || CHR(456) FROM DUAL\n",
            "UNION ALL\n",
            "SELECT  '--txtxt' FROM DUAL\n",
            "UNION ALL\n",
            "SELECT  'txtxt' || A.TABLE_OWNER || '.' || A.INDEX_NAME || 'txtxt' || ';' AS col --*!!!*--\n",
            "FROM\n",
            "(\n",
            "SELECT A.TABLE_OWNER,A.INDEX_NAME,B.col,\n",
            "CASE WHEN A.col IS NULL THEN B.col ELSE A.col END AS col\n",
            "FROM ABC.col A, ABC.COL B\n",
            "WHERE A.TABLE_OWNER=B.INDEX_OWNER(+) AND A.INDEX_NAME=B.INDEX_NAME(+)\n",
            "AND A.OWNER = 'BBB' AND A.TABLE_NAME = 'UnlR2' --*****<<<*****--\n",
            "AND B.col like 'txtxt%'\n",
            "ORDER BY col\n",
            ") A;\n",
            "\n",
            "--測試: TABLE_OWNER = 'BBB' AND TABLE_NAME = 'Xw4ID' (input any owner & name)\n",
            "--1.concat with ;\n",
            "--2.test\n",
            "--3.test\n",
            "\n",
            "SELECT *\n",
            "FROM\n",
            "(\n",
            "WITH xfile AS(\n",
            "    SELECT A.*, B.col, ...\n",
            "    FROM\n",
            "    (\n",
            "    SELECT  TABLE_OWNER,TABLE_NAME,...,EXTRACTVALUE --*!!!*--\n",
            "      ( ABC.col\n",
            "        ( 'select txtxt\n",
            "           from txtxt where table_name = ''' || T.col || ''' & col = ''' || T.col || ''''), --*!!!*--\n",
            "        '//text()' ) AS col\n",
            "    FROM  ABC.col T\n",
            "    WHERE TABLE_OWNER = 'BBB' AND TABLE_NAME = 'Xw4ID' --*****<<<*****--\n",
            "    AND col like 'txtxt%'\n",
            "    ORDER BY col\n",
            "    ) A,\n",
            "    ( \n",
            "    SELECT  TABLE_OWNER,TABLE_NAME,col\n",
            "    FROM  ABC.col\n",
            "    WHERE TABLE_OWNER = 'BBB' AND TABLE_NAME = 'Xw4ID' --*****<<<*****--\n",
            "    AND (col like '%txtxt%')    \n",
            "    ) B,\n",
            "    ( \n",
            "    SELECT  TABLE_OWNER,TABLE_NAME,...\n",
            "    FROM  ABC.col\n",
            "    WHERE TABLE_OWNER = 'BBB' AND TABLE_NAME = 'Xw4ID' --*****<<<*****--\n",
            "    GROUP BY TABLE_OWNER,TABLE_NAME\n",
            "    ) C,\n",
            "    (\n",
            "        SELECT A.OWNER AS TABLE_OWNER,A.TABLE_NAME,...\n",
            "        FROM\n",
            "        (        \n",
            "                SELECT OWNER,NAME AS TABLE_NAME,COL_NAME AS col\n",
            "                FROM xfile\n",
            "                WHERE col = 'txtxt'\n",
            "        ) A,\n",
            "        ( \n",
            "                SELECT OWNER,TABLE_NAME,COL_NAME,...\n",
            "                FROM xfile\n",
            "        ) B\n",
            "        WHERE A.OWNER = B.OWNER\n",
            "          AND A.TABLE_NAME = B.TABLE_NAME \n",
            "          AND ...\n",
            "    ) D\n",
            "    WHERE A.TABLE_OWNER = B.TABLE_OWNER(+)\n",
            "      AND A.TABLE_NAME = B.TABLE_NAME(+)\n",
            "      AND A.TABLE_OWNER = C.TABLE_OWNER(+)\n",
            "      ...\n",
            "     \n",
            ")   \n",
            "    SELECT col\n",
            "    FROM\n",
            "    (\n",
            "        SELECT '1' AS COL,'--/****** ' || col ||'.'|| col || '******/' AS col\n",
            "        FROM xfile\n",
            "        WHERE ROWNUM=1\n",
            "        UNION ALL\n",
            "        SELECT '2' AS COL,'--txtxt' FROM DUAL\n",
            "        UNION ALL         \n",
            "        SELECT '3' AS COL,'txtxt' || col || '.' || col || 'txtxt < (' || 'txtxt' || ');' AS col --*!!!*--\n",
            "        FROM xfile\n",
            "        WHERE MAX_col NOT LIKE '%txtxt%'\n",
            "        AND ROWNUM=1\n",
            "        UNION ALL\n",
            "        ...\n",
            "    )\n",
            "    ORDER BY col\n",
            ")\n",
            "UNION ALL\n",
            "SELECT  CHR(123) || CHR(456) FROM DUAL\n",
            "UNION ALL\n",
            "SELECT  '--txtxt' FROM DUAL\n",
            "UNION ALL\n",
            "SELECT  'txtxt' || A.TABLE_OWNER || '.' || A.INDEX_NAME || 'txtxt' || ';' AS col --*!!!*--\n",
            "FROM\n",
            "(\n",
            "SELECT A.TABLE_OWNER,A.INDEX_NAME,B.col,\n",
            "CASE WHEN A.col IS NULL THEN B.col ELSE A.col END AS col\n",
            "FROM ABC.col A, ABC.COL B\n",
            "WHERE A.TABLE_OWNER=B.INDEX_OWNER(+) AND A.INDEX_NAME=B.INDEX_NAME(+)\n",
            "AND A.OWNER = 'BBB' AND A.TABLE_NAME = 'Xw4ID' --*****<<<*****--\n",
            "AND B.col like 'txtxt%'\n",
            "ORDER BY col\n",
            ") A;\n",
            "\n",
            "--測試: TABLE_OWNER = 'CC' AND TABLE_NAME = '8ca5S' (input any owner & name)\n",
            "--1.concat with ;\n",
            "--2.test\n",
            "--3.test\n",
            "\n",
            "SELECT *\n",
            "FROM\n",
            "(\n",
            "WITH xfile AS(\n",
            "    SELECT A.*, B.col, ...\n",
            "    FROM\n",
            "    (\n",
            "    SELECT  TABLE_OWNER,TABLE_NAME,...,EXTRACTVALUE --*!!!*--\n",
            "      ( ABC.col\n",
            "        ( 'select txtxt\n",
            "           from txtxt where table_name = ''' || T.col || ''' & col = ''' || T.col || ''''), --*!!!*--\n",
            "        '//text()' ) AS col\n",
            "    FROM  ABC.col T\n",
            "    WHERE TABLE_OWNER = 'CC' AND TABLE_NAME = '8ca5S' --*****<<<*****--\n",
            "    AND col like 'txtxt%'\n",
            "    ORDER BY col\n",
            "    ) A,\n",
            "    ( \n",
            "    SELECT  TABLE_OWNER,TABLE_NAME,col\n",
            "    FROM  ABC.col\n",
            "    WHERE TABLE_OWNER = 'CC' AND TABLE_NAME = '8ca5S' --*****<<<*****--\n",
            "    AND (col like '%txtxt%')    \n",
            "    ) B,\n",
            "    ( \n",
            "    SELECT  TABLE_OWNER,TABLE_NAME,...\n",
            "    FROM  ABC.col\n",
            "    WHERE TABLE_OWNER = 'CC' AND TABLE_NAME = '8ca5S' --*****<<<*****--\n",
            "    GROUP BY TABLE_OWNER,TABLE_NAME\n",
            "    ) C,\n",
            "    (\n",
            "        SELECT A.OWNER AS TABLE_OWNER,A.TABLE_NAME,...\n",
            "        FROM\n",
            "        (        \n",
            "                SELECT OWNER,NAME AS TABLE_NAME,COL_NAME AS col\n",
            "                FROM xfile\n",
            "                WHERE col = 'txtxt'\n",
            "        ) A,\n",
            "        ( \n",
            "                SELECT OWNER,TABLE_NAME,COL_NAME,...\n",
            "                FROM xfile\n",
            "        ) B\n",
            "        WHERE A.OWNER = B.OWNER\n",
            "          AND A.TABLE_NAME = B.TABLE_NAME \n",
            "          AND ...\n",
            "    ) D\n",
            "    WHERE A.TABLE_OWNER = B.TABLE_OWNER(+)\n",
            "      AND A.TABLE_NAME = B.TABLE_NAME(+)\n",
            "      AND A.TABLE_OWNER = C.TABLE_OWNER(+)\n",
            "      ...\n",
            "     \n",
            ")   \n",
            "    SELECT col\n",
            "    FROM\n",
            "    (\n",
            "        SELECT '1' AS COL,'--/****** ' || col ||'.'|| col || '******/' AS col\n",
            "        FROM xfile\n",
            "        WHERE ROWNUM=1\n",
            "        UNION ALL\n",
            "        SELECT '2' AS COL,'--txtxt' FROM DUAL\n",
            "        UNION ALL         \n",
            "        SELECT '3' AS COL,'txtxt' || col || '.' || col || 'txtxt < (' || 'txtxt' || ');' AS col --*!!!*--\n",
            "        FROM xfile\n",
            "        WHERE MAX_col NOT LIKE '%txtxt%'\n",
            "        AND ROWNUM=1\n",
            "        UNION ALL\n",
            "        ...\n",
            "    )\n",
            "    ORDER BY col\n",
            ")\n",
            "UNION ALL\n",
            "SELECT  CHR(123) || CHR(456) FROM DUAL\n",
            "UNION ALL\n",
            "SELECT  '--txtxt' FROM DUAL\n",
            "UNION ALL\n",
            "SELECT  'txtxt' || A.TABLE_OWNER || '.' || A.INDEX_NAME || 'txtxt' || ';' AS col --*!!!*--\n",
            "FROM\n",
            "(\n",
            "SELECT A.TABLE_OWNER,A.INDEX_NAME,B.col,\n",
            "CASE WHEN A.col IS NULL THEN B.col ELSE A.col END AS col\n",
            "FROM ABC.col A, ABC.COL B\n",
            "WHERE A.TABLE_OWNER=B.INDEX_OWNER(+) AND A.INDEX_NAME=B.INDEX_NAME(+)\n",
            "AND A.OWNER = 'CC' AND A.TABLE_NAME = '8ca5S' --*****<<<*****--\n",
            "AND B.col like 'txtxt%'\n",
            "ORDER BY col\n",
            ") A;\n",
            "\n",
            "\n"
          ]
        }
      ]
    }
  ]
}