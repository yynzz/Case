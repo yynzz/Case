{
  "nbformat": 4,
  "nbformat_minor": 0,
  "metadata": {
    "colab": {
      "provenance": [],
      "authorship_tag": "ABX9TyOSavFTS6NVkcBbbuxVh+xA"
    },
    "kernelspec": {
      "name": "python3",
      "display_name": "Python 3"
    },
    "language_info": {
      "name": "python"
    }
  },
  "cells": [
    {
      "cell_type": "markdown",
      "source": [
        "# Object Oriented Programming\n",
        "*   類別 class\n",
        "*   物件 object\n",
        "*   屬性 attribute\n",
        "*   建構式 constructor\n",
        "*   方法 method"
      ],
      "metadata": {
        "id": "9T9q9gySpjt4"
      }
    },
    {
      "cell_type": "code",
      "source": [
        "# class\n",
        "class Cars:\n",
        "\n",
        "    # constructor\n",
        "    def __init__(self, color, seat):\n",
        "        self.color = color   # attribute\n",
        "        self.seat = seat     # attribute\n",
        "\n",
        "    # method\n",
        "    def drive(self):\n",
        "        print(f'My car is {self.color} and has {self.seat} seats.')\n",
        "\n",
        "\n",
        "# create an object of the class; will invoke constructor\n",
        "benz = Cars('black', 4)\n",
        "\n",
        "# perform method\n",
        "benz.drive()"
      ],
      "metadata": {
        "colab": {
          "base_uri": "https://localhost:8080/"
        },
        "id": "rUC9iNWo9YDq",
        "outputId": "73435b7d-f3e6-40c8-a040-ef064196460c"
      },
      "execution_count": 1,
      "outputs": [
        {
          "output_type": "stream",
          "name": "stdout",
          "text": [
            "My car is black and has 4 seats.\n"
          ]
        }
      ]
    },
    {
      "cell_type": "code",
      "source": [
        "# class\n",
        "class Addition:\n",
        "    first = 0\n",
        "    second = 0\n",
        "    answer = 0\n",
        " \n",
        "    # constructor\n",
        "    def __init__(self, f, s):\n",
        "        self.first = f    # attribute\n",
        "        self.second = s   # attribute\n",
        "\n",
        "    # method\n",
        "    def display(self):\n",
        "        print('First number: ' + str(self.first))\n",
        "        print('Second number: ' + str(self.second))\n",
        "        print('Addition of two numbers: ' + str(self.answer))\n",
        "\n",
        "    # method\n",
        "    def calculate(self):\n",
        "        self.answer = self.first + self.second\n",
        " \n",
        " \n",
        "# create two objects; will invoke constructor.  self <--> obj\n",
        "obj1 = Addition(1, 2)\n",
        "obj2 = Addition(100, 200)\n",
        " \n",
        "# perform Addition on obj1 and obj2\n",
        "obj1.calculate()\n",
        "obj2.calculate()\n",
        " \n",
        "# display result of obj1 and obj2\n",
        "obj1.display()\n",
        "obj2.display()"
      ],
      "metadata": {
        "colab": {
          "base_uri": "https://localhost:8080/"
        },
        "id": "wr7v_QtkBabS",
        "outputId": "4a6edb94-aec5-4dd4-e615-5dbe3107ba87"
      },
      "execution_count": 2,
      "outputs": [
        {
          "output_type": "stream",
          "name": "stdout",
          "text": [
            "First number: 1\n",
            "Second number: 2\n",
            "Addition of two numbers: 3\n",
            "First number: 100\n",
            "Second number: 200\n",
            "Addition of two numbers: 300\n"
          ]
        }
      ]
    },
    {
      "cell_type": "markdown",
      "source": [
        "# 1. class\n",
        "> class定義未來產生object時所擁有的attribute及method\n",
        "\n",
        "\n",
        "\n",
        "```\n",
        "class classname:\n",
        "　　statement\n",
        "```\n",
        "\n",
        "\n"
      ],
      "metadata": {
        "id": "rEuAiucWp-sB"
      }
    },
    {
      "cell_type": "code",
      "source": [
        "class Cars:\n",
        "  pass"
      ],
      "metadata": {
        "id": "3TD7cKeB-5Mn"
      },
      "execution_count": null,
      "outputs": []
    },
    {
      "cell_type": "markdown",
      "source": [
        "# 2. object\n",
        "> object是透過class實際建立的實體\n",
        "\n",
        "```\n",
        "object_name = classname()\n",
        "```\n"
      ],
      "metadata": {
        "id": "pziSxOpGq6go"
      }
    },
    {
      "cell_type": "code",
      "source": [
        "benz = Cars()"
      ],
      "metadata": {
        "id": "nMRJZONB_DyR"
      },
      "execution_count": null,
      "outputs": []
    },
    {
      "cell_type": "markdown",
      "source": [
        "# 3. attribute\n",
        "> attribute負責存放object的資料; 當要設定的attribute很多時, 建議用constructor\n",
        "\n",
        "```\n",
        "object_name.attribute_name = value\n",
        "\n",
        "```\n"
      ],
      "metadata": {
        "id": "a1FAskLrrPYo"
      }
    },
    {
      "cell_type": "code",
      "source": [
        "benz.color = 'black'   # 顏色屬性, print(benz.color) -> black\n",
        "benz.seat = 4          # 座位屬性, print(benz.seat) -> 4"
      ],
      "metadata": {
        "id": "BtfFTqKV_KyJ"
      },
      "execution_count": null,
      "outputs": []
    },
    {
      "cell_type": "markdown",
      "source": [
        "# 4. constructor\n",
        "\n",
        "> 在建立object時會自動執行的method, 至少要有一個self參數(代表當前object); 通常會在constructor中initial object的attribute\n",
        "\n",
        "\n",
        "\n",
        "```\n",
        "def __init__(self):\n",
        "    statement\n",
        "```\n",
        "\n",
        "\n",
        "\n"
      ],
      "metadata": {
        "id": "pZJ_-5dNrtyK"
      }
    },
    {
      "cell_type": "markdown",
      "source": [
        "object的color屬性=傳入的color參數值、seat屬性=傳入的seat參數值"
      ],
      "metadata": {
        "id": "r8DzjWNVQtNH"
      }
    },
    {
      "cell_type": "code",
      "source": [
        "def __init__(self, color, seat):\n",
        "  self.color = color\n",
        "  self.seat = seat "
      ],
      "metadata": {
        "id": "nLjT9BpMOKO7"
      },
      "execution_count": null,
      "outputs": []
    },
    {
      "cell_type": "markdown",
      "source": [
        "建立物件(benz)同時生成其屬性並初始化屬性值(color＆＆seat); Python會將目前物件(benz)傳入constructor, 所以不用寫第一個參數(self)"
      ],
      "metadata": {
        "id": "oqg9oz9PQxe-"
      }
    },
    {
      "cell_type": "code",
      "source": [
        "class Cars:\n",
        "    def __init__(self, color, seat):\n",
        "        self.color = color\n",
        "        self.seat = seat\n",
        "\n",
        "benz = Cars('black', 4)"
      ],
      "metadata": {
        "id": "rQukeK63_adX"
      },
      "execution_count": null,
      "outputs": []
    },
    {
      "cell_type": "markdown",
      "source": [
        "# 5. method\n",
        "> object的行為, 至少要有一個self參數(代表當前object)\n",
        "\n",
        "\n",
        "\n",
        "```\n",
        "def method_name(self):\n",
        "　　statement\n",
        "```\n",
        "\n",
        "\n",
        "\n",
        "\n",
        "\n"
      ],
      "metadata": {
        "id": "6MzAv_mb7QSo"
      }
    },
    {
      "cell_type": "code",
      "source": [
        "class Cars:\n",
        "    def __init__(self, color, seat):\n",
        "        self.color = color\n",
        "        self.seat = seat\n",
        "\n",
        "    def drive(self):\n",
        "        print(f'My car is {self.color} and has {self.seat} seats.')\n",
        "\n",
        "benz = Cars('black', 4)\n",
        "\n",
        "benz.drive()"
      ],
      "metadata": {
        "colab": {
          "base_uri": "https://localhost:8080/"
        },
        "id": "mnWnsWX9BDCV",
        "outputId": "082343f1-f73e-40b9-c647-3d3638d243c2"
      },
      "execution_count": 3,
      "outputs": [
        {
          "output_type": "stream",
          "name": "stdout",
          "text": [
            "My car is black and has 4 seats.\n"
          ]
        }
      ]
    }
  ]
}